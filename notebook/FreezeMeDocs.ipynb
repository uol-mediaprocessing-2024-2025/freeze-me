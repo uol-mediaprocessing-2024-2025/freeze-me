{
 "cells": [
  {
   "metadata": {},
   "cell_type": "markdown",
   "source": [
    "# Freeze Me!\n",
    "Freeze Me! is a project, in which we want to create dynamic, motion-illustrative images from video clips by isolating moving objects and visualizing their motion.\n",
    "The project is separated into individual steps, which all fulfill a specific task.  <br>\n",
    "The steps are:  <br>\n",
    "   1. Project setup\n",
    "   2. Video Upload and Cutting  <br>\n",
    "   3. Video Segmentation  <br>\n",
    "   4. The main effects  <br>\n",
    "    4.1 A Motion blur effect  <br>\n",
    "    4.2 A Multiple instances Effect  <br>\n",
    "   5. After effects  <br>\n",
    "\n",
    "\n",
    "In the following we will go through all steps of the project, their development history and other things worth mentioning (Future Improvements, technical difficulties, etc.).\n"
   ],
   "id": "ead3e1c2906715c2"
  },
  {
   "metadata": {},
   "cell_type": "markdown",
   "source": "## 1. Project Setup\n",
   "id": "ea4cac769c6b98a5"
  },
  {
   "metadata": {
    "editable": true,
    "slideshow": {
     "slide_type": ""
    },
    "tags": [],
    "ExecuteTime": {
     "end_time": "2025-02-05T22:11:15.304594Z",
     "start_time": "2025-02-05T22:10:13.627893Z"
    }
   },
   "cell_type": "code",
   "source": [
    "import os\n",
    "os.environ[\"PYTORCH_ENABLE_MPS_FALLBACK\"] = \"1\"\n",
    "import numpy as np\n",
    "import torch\n",
    "import matplotlib.pyplot as plt\n",
    "from PIL import Image\n",
    "\n",
    "using_colab = True\n",
    "\n",
    "if using_colab:\n",
    "    import torchvision\n",
    "    print(\"PyTorch version:\", torch.__version__)\n",
    "    print(\"Torchvision version:\", torchvision.__version__)\n",
    "    print(\"CUDA available:\", torch.cuda.is_available())\n",
    "\n",
    "    # Install required libraries\n",
    "    !pip3 install opencv-python matplotlib\n",
    "    !pip3 install git+https://github.com/facebookresearch/sam2.git\n",
    "\n",
    "    !mkdir -p ../checkpoints/\n",
    "    !wget -P ../checkpoints/ https://dl.fbaipublicfiles.com/segment_anything_2/092824/sam2.1_hiera_base_plus.pt\n",
    "\n",
    "# Use GPU (CUDA) if available\n",
    "device = torch.device(\"cuda\" if torch.cuda.is_available() else \"cpu\")\n",
    "print(f\"Using device: {device}\")"
   ],
   "id": "2ce567311665f038",
   "outputs": [
    {
     "name": "stdout",
     "output_type": "stream",
     "text": [
      "PyTorch version: 2.5.1\n",
      "Torchvision version: 0.20.1\n",
      "CUDA available: True\n",
      "Looking in indexes: https://pypi.org/simple, https://pypi.ngc.nvidia.com\n",
      "Requirement already satisfied: opencv-python in d:\\anaconda\\envs\\freeze-me\\lib\\site-packages (4.11.0.86)\n",
      "Requirement already satisfied: matplotlib in d:\\anaconda\\envs\\freeze-me\\lib\\site-packages (3.10.0)\n",
      "Requirement already satisfied: numpy>=1.21.2 in d:\\anaconda\\envs\\freeze-me\\lib\\site-packages (from opencv-python) (2.0.1)\n",
      "Requirement already satisfied: contourpy>=1.0.1 in d:\\anaconda\\envs\\freeze-me\\lib\\site-packages (from matplotlib) (1.3.1)\n",
      "Requirement already satisfied: cycler>=0.10 in d:\\anaconda\\envs\\freeze-me\\lib\\site-packages (from matplotlib) (0.12.1)\n",
      "Requirement already satisfied: fonttools>=4.22.0 in d:\\anaconda\\envs\\freeze-me\\lib\\site-packages (from matplotlib) (4.55.6)\n",
      "Requirement already satisfied: kiwisolver>=1.3.1 in d:\\anaconda\\envs\\freeze-me\\lib\\site-packages (from matplotlib) (1.4.8)\n",
      "Requirement already satisfied: packaging>=20.0 in d:\\anaconda\\envs\\freeze-me\\lib\\site-packages (from matplotlib) (24.2)\n",
      "Requirement already satisfied: pillow>=8 in d:\\anaconda\\envs\\freeze-me\\lib\\site-packages (from matplotlib) (11.0.0)\n",
      "Requirement already satisfied: pyparsing>=2.3.1 in d:\\anaconda\\envs\\freeze-me\\lib\\site-packages (from matplotlib) (3.2.1)\n",
      "Requirement already satisfied: python-dateutil>=2.7 in d:\\anaconda\\envs\\freeze-me\\lib\\site-packages (from matplotlib) (2.9.0.post0)\n",
      "Requirement already satisfied: six>=1.5 in d:\\anaconda\\envs\\freeze-me\\lib\\site-packages (from python-dateutil>=2.7->matplotlib) (1.16.0)\n",
      "Looking in indexes: https://pypi.org/simple, https://pypi.ngc.nvidia.com\n",
      "Collecting git+https://github.com/facebookresearch/sam2.git\n",
      "  Cloning https://github.com/facebookresearch/sam2.git to c:\\users\\jens-\\appdata\\local\\temp\\pip-req-build-h5ifdf5d\n"
     ]
    },
    {
     "name": "stderr",
     "output_type": "stream",
     "text": [
      "  Running command git clone --filter=blob:none --quiet https://github.com/facebookresearch/sam2.git 'C:\\Users\\jens-\\AppData\\Local\\Temp\\pip-req-build-h5ifdf5d'\n",
      "  error: RPC failed; curl 56 Recv failure: Connection was reset\n",
      "  error: 2134 bytes of body are still expected\n",
      "  fetch-pack: unexpected disconnect while reading sideband packet\n",
      "  fatal: early EOF\n",
      "  fatal: fetch-pack: invalid index-pack output\n",
      "  fatal: could not fetch 39b1b3d603ed0cf6b7f94c9c08067f148f35613f from promisor remote\n",
      "  warning: Clone succeeded, but checkout failed.\n",
      "  You can inspect what was checked out with 'git status'\n",
      "  and retry with 'git restore --source=HEAD :/'\n",
      "\n",
      "  error: subprocess-exited-with-error\n",
      "  \n",
      "  git clone --filter=blob:none --quiet https://github.com/facebookresearch/sam2.git 'C:\\Users\\jens-\\AppData\\Local\\Temp\\pip-req-build-h5ifdf5d' did not run successfully.\n",
      "  exit code: 128\n",
      "  \n",
      "  See above for output.\n",
      "  \n",
      "  note: This error originates from a subprocess, and is likely not a problem with pip.\n",
      "error: subprocess-exited-with-error\n",
      "\n",
      "git clone --filter=blob:none --quiet https://github.com/facebookresearch/sam2.git 'C:\\Users\\jens-\\AppData\\Local\\Temp\\pip-req-build-h5ifdf5d' did not run successfully.\n",
      "exit code: 128\n",
      "\n",
      "See above for output.\n",
      "\n",
      "note: This error originates from a subprocess, and is likely not a problem with pip.\n",
      "Syntaxfehler.\n",
      "Der Befehl \"wget\" ist entweder falsch geschrieben oder\n",
      "konnte nicht gefunden werden.\n"
     ]
    },
    {
     "name": "stdout",
     "output_type": "stream",
     "text": [
      "Using device: cuda\n"
     ]
    }
   ],
   "execution_count": 1
  },
  {
   "metadata": {},
   "cell_type": "markdown",
   "source": "## 2. Video Upload and Editing",
   "id": "84f57f3b7ce9e13"
  },
  {
   "metadata": {},
   "cell_type": "markdown",
   "source": "## 3. Segmentation",
   "id": "1c33051286b2c53f"
  },
  {
   "metadata": {},
   "cell_type": "markdown",
   "source": "## 4. Main Effects",
   "id": "7e04d12933376e4c"
  },
  {
   "metadata": {},
   "cell_type": "markdown",
   "source": "### 4.1. Motion Blur",
   "id": "96c826e1586ce089"
  },
  {
   "metadata": {},
   "cell_type": "markdown",
   "source": "### 4.2. Multiple Instances",
   "id": "8edcf67ae9249e6f"
  },
  {
   "metadata": {},
   "cell_type": "markdown",
   "source": "## 5. After Effects",
   "id": "6736f25dc259fe32"
  }
 ],
 "metadata": {
  "kernelspec": {
   "display_name": "Python 3 (ipykernel)",
   "language": "python",
   "name": "python3"
  },
  "language_info": {
   "codemirror_mode": {
    "name": "ipython",
    "version": 3
   },
   "file_extension": ".py",
   "mimetype": "text/x-python",
   "name": "python",
   "nbconvert_exporter": "python",
   "pygments_lexer": "ipython3",
   "version": "3.10.15"
  }
 },
 "nbformat": 4,
 "nbformat_minor": 5
}
