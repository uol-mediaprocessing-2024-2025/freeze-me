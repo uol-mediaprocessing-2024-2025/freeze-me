{
 "cells": [
  {
   "metadata": {},
   "cell_type": "markdown",
   "source": [
    "# Freeze Me!\n",
    "Freeze Me! is a project, in which we want to create dynamic, motion-illustrative images from video clips by isolating moving objects and visualizing their motion.\n",
    "The project is separated into individual steps, which all fulfill a specific task.  <br>\n",
    "The steps are:  <br>\n",
    "   1. Project setup\n",
    "   2. Video Upload and Cutting  <br>\n",
    "   3. Video Segmentation  <br>\n",
    "   4. The main effects  <br>\n",
    "    4.1 A Motion blur effect  <br>\n",
    "    4.2 A Multiple instances Effect  <br>\n",
    "   5. After effects  <br>\n",
    "\n",
    "\n",
    "In the following we will go through all steps of the project, their development history and other things worth mentioning (Future Improvements, technical difficulties, etc.).\n"
   ],
   "id": "ead3e1c2906715c2"
  },
  {
   "metadata": {},
   "cell_type": "markdown",
   "source": "## 1. Project Setup\n",
   "id": "ea4cac769c6b98a5"
  },
  {
   "metadata": {
    "editable": true,
    "slideshow": {
     "slide_type": ""
    },
    "tags": [],
    "ExecuteTime": {
     "end_time": "2025-02-13T12:44:13.821771Z",
     "start_time": "2025-02-13T12:42:14.513226Z"
    }
   },
   "cell_type": "code",
   "source": [
    "import os\n",
    "os.environ[\"PYTORCH_ENABLE_MPS_FALLBACK\"] = \"1\"\n",
    "import numpy as np\n",
    "import torch\n",
    "import matplotlib.pyplot as plt\n",
    "from PIL import Image\n",
    "\n",
    "using_colab = True\n",
    "\n",
    "if using_colab:\n",
    "    import torchvision\n",
    "    print(\"PyTorch version:\", torch.__version__)\n",
    "    print(\"Torchvision version:\", torchvision.__version__)\n",
    "    print(\"CUDA available:\", torch.cuda.is_available())\n",
    "\n",
    "    # Install required libraries\n",
    "    !pip3 install opencv-python matplotlib\n",
    "    !pip3 install git+https://github.com/facebookresearch/sam2.git\n",
    "\n",
    "    !mkdir -p ../checkpoints/\n",
    "    !wget -P ../checkpoints/ https://dl.fbaipublicfiles.com/segment_anything_2/092824/sam2.1_hiera_tiny.pt\n",
    "\n",
    "# Use GPU (CUDA) if available\n",
    "device = torch.device(\"cuda\" if torch.cuda.is_available() else \"cpu\")\n",
    "print(f\"Using device: {device}\")"
   ],
   "id": "2ce567311665f038",
   "outputs": [
    {
     "name": "stdout",
     "output_type": "stream",
     "text": [
      "PyTorch version: 2.5.1\n",
      "Torchvision version: 0.20.1\n",
      "CUDA available: True\n",
      "Looking in indexes: https://pypi.org/simple, https://pypi.ngc.nvidia.com\n",
      "Requirement already satisfied: opencv-python in d:\\anaconda\\envs\\freeze-me\\lib\\site-packages (4.11.0.86)\n",
      "Requirement already satisfied: matplotlib in d:\\anaconda\\envs\\freeze-me\\lib\\site-packages (3.10.0)\n",
      "Requirement already satisfied: numpy>=1.21.2 in d:\\anaconda\\envs\\freeze-me\\lib\\site-packages (from opencv-python) (2.0.1)\n",
      "Requirement already satisfied: contourpy>=1.0.1 in d:\\anaconda\\envs\\freeze-me\\lib\\site-packages (from matplotlib) (1.3.1)\n",
      "Requirement already satisfied: cycler>=0.10 in d:\\anaconda\\envs\\freeze-me\\lib\\site-packages (from matplotlib) (0.12.1)\n",
      "Requirement already satisfied: fonttools>=4.22.0 in d:\\anaconda\\envs\\freeze-me\\lib\\site-packages (from matplotlib) (4.55.6)\n",
      "Requirement already satisfied: kiwisolver>=1.3.1 in d:\\anaconda\\envs\\freeze-me\\lib\\site-packages (from matplotlib) (1.4.8)\n",
      "Requirement already satisfied: packaging>=20.0 in d:\\anaconda\\envs\\freeze-me\\lib\\site-packages (from matplotlib) (24.2)\n",
      "Requirement already satisfied: pillow>=8 in d:\\anaconda\\envs\\freeze-me\\lib\\site-packages (from matplotlib) (11.0.0)\n",
      "Requirement already satisfied: pyparsing>=2.3.1 in d:\\anaconda\\envs\\freeze-me\\lib\\site-packages (from matplotlib) (3.2.1)\n",
      "Requirement already satisfied: python-dateutil>=2.7 in d:\\anaconda\\envs\\freeze-me\\lib\\site-packages (from matplotlib) (2.9.0.post0)\n",
      "Requirement already satisfied: six>=1.5 in d:\\anaconda\\envs\\freeze-me\\lib\\site-packages (from python-dateutil>=2.7->matplotlib) (1.16.0)\n"
     ]
    },
    {
     "name": "stderr",
     "output_type": "stream",
     "text": [
      "\n",
      "[notice] A new release of pip is available: 25.0 -> 25.0.1\n",
      "[notice] To update, run: python.exe -m pip install --upgrade pip\n"
     ]
    },
    {
     "name": "stdout",
     "output_type": "stream",
     "text": [
      "Looking in indexes: https://pypi.org/simple, https://pypi.ngc.nvidia.com\n",
      "Collecting git+https://github.com/facebookresearch/sam2.git\n",
      "  Cloning https://github.com/facebookresearch/sam2.git to c:\\users\\jens-\\appdata\\local\\temp\\pip-req-build-o9uouykw\n",
      "  Resolved https://github.com/facebookresearch/sam2.git to commit 2b90b9f5ceec907a1c18123530e92e794ad901a4\n",
      "  Installing build dependencies: started\n",
      "  Installing build dependencies: still running...\n",
      "  Installing build dependencies: finished with status 'done'\n",
      "  Getting requirements to build wheel: started\n",
      "  Getting requirements to build wheel: finished with status 'done'\n",
      "  Preparing metadata (pyproject.toml): started\n",
      "  Preparing metadata (pyproject.toml): finished with status 'done'\n",
      "Requirement already satisfied: torch>=2.5.1 in d:\\anaconda\\envs\\freeze-me\\lib\\site-packages (from SAM-2==1.0) (2.5.1)\n",
      "Requirement already satisfied: torchvision>=0.20.1 in d:\\anaconda\\envs\\freeze-me\\lib\\site-packages (from SAM-2==1.0) (0.20.1)\n",
      "Requirement already satisfied: numpy>=1.24.4 in d:\\anaconda\\envs\\freeze-me\\lib\\site-packages (from SAM-2==1.0) (2.0.1)\n",
      "Requirement already satisfied: tqdm>=4.66.1 in d:\\anaconda\\envs\\freeze-me\\lib\\site-packages (from SAM-2==1.0) (4.67.1)\n",
      "Requirement already satisfied: hydra-core>=1.3.2 in d:\\anaconda\\envs\\freeze-me\\lib\\site-packages (from SAM-2==1.0) (1.3.2)\n",
      "Requirement already satisfied: iopath>=0.1.10 in d:\\anaconda\\envs\\freeze-me\\lib\\site-packages (from SAM-2==1.0) (0.1.10)\n",
      "Requirement already satisfied: pillow>=9.4.0 in d:\\anaconda\\envs\\freeze-me\\lib\\site-packages (from SAM-2==1.0) (11.0.0)\n",
      "Requirement already satisfied: omegaconf<2.4,>=2.2 in d:\\anaconda\\envs\\freeze-me\\lib\\site-packages (from hydra-core>=1.3.2->SAM-2==1.0) (2.3.0)\n",
      "Requirement already satisfied: antlr4-python3-runtime==4.9.* in d:\\anaconda\\envs\\freeze-me\\lib\\site-packages (from hydra-core>=1.3.2->SAM-2==1.0) (4.9.3)\n",
      "Requirement already satisfied: packaging in d:\\anaconda\\envs\\freeze-me\\lib\\site-packages (from hydra-core>=1.3.2->SAM-2==1.0) (24.2)\n",
      "Requirement already satisfied: typing-extensions in d:\\anaconda\\envs\\freeze-me\\lib\\site-packages (from iopath>=0.1.10->SAM-2==1.0) (4.12.2)\n",
      "Requirement already satisfied: portalocker in d:\\anaconda\\envs\\freeze-me\\lib\\site-packages (from iopath>=0.1.10->SAM-2==1.0) (3.1.1)\n",
      "Requirement already satisfied: filelock in d:\\anaconda\\envs\\freeze-me\\lib\\site-packages (from torch>=2.5.1->SAM-2==1.0) (3.13.1)\n",
      "Requirement already satisfied: networkx in d:\\anaconda\\envs\\freeze-me\\lib\\site-packages (from torch>=2.5.1->SAM-2==1.0) (3.4.2)\n",
      "Requirement already satisfied: jinja2 in d:\\anaconda\\envs\\freeze-me\\lib\\site-packages (from torch>=2.5.1->SAM-2==1.0) (3.1.5)\n",
      "Requirement already satisfied: fsspec in d:\\anaconda\\envs\\freeze-me\\lib\\site-packages (from torch>=2.5.1->SAM-2==1.0) (2024.12.0)\n",
      "Requirement already satisfied: sympy==1.13.1 in d:\\anaconda\\envs\\freeze-me\\lib\\site-packages (from torch>=2.5.1->SAM-2==1.0) (1.13.1)\n",
      "Requirement already satisfied: mpmath<1.4,>=1.1.0 in d:\\anaconda\\envs\\freeze-me\\lib\\site-packages (from sympy==1.13.1->torch>=2.5.1->SAM-2==1.0) (1.3.0)\n",
      "Requirement already satisfied: colorama in d:\\anaconda\\envs\\freeze-me\\lib\\site-packages (from tqdm>=4.66.1->SAM-2==1.0) (0.4.6)\n",
      "Requirement already satisfied: PyYAML>=5.1.0 in d:\\anaconda\\envs\\freeze-me\\lib\\site-packages (from omegaconf<2.4,>=2.2->hydra-core>=1.3.2->SAM-2==1.0) (6.0.2)\n",
      "Requirement already satisfied: MarkupSafe>=2.0 in d:\\anaconda\\envs\\freeze-me\\lib\\site-packages (from jinja2->torch>=2.5.1->SAM-2==1.0) (2.1.3)\n",
      "Requirement already satisfied: pywin32>=226 in d:\\anaconda\\envs\\freeze-me\\lib\\site-packages (from portalocker->iopath>=0.1.10->SAM-2==1.0) (308)\n"
     ]
    },
    {
     "name": "stderr",
     "output_type": "stream",
     "text": [
      "  Running command git clone --filter=blob:none --quiet https://github.com/facebookresearch/sam2.git 'C:\\Users\\jens-\\AppData\\Local\\Temp\\pip-req-build-o9uouykw'\n",
      "\n",
      "[notice] A new release of pip is available: 25.0 -> 25.0.1\n",
      "[notice] To update, run: python.exe -m pip install --upgrade pip\n",
      "Syntaxfehler.\n"
     ]
    },
    {
     "name": "stdout",
     "output_type": "stream",
     "text": [
      "Using device: cuda\n"
     ]
    }
   ],
   "execution_count": 2
  },
  {
   "metadata": {},
   "cell_type": "markdown",
   "source": "## 2. Video Upload and Editing",
   "id": "84f57f3b7ce9e13"
  },
  {
   "metadata": {},
   "cell_type": "markdown",
   "source": "## 3. Segmentation",
   "id": "1c33051286b2c53f"
  },
  {
   "metadata": {},
   "cell_type": "markdown",
   "source": "## 4. Main Effects",
   "id": "7e04d12933376e4c"
  },
  {
   "metadata": {},
   "cell_type": "markdown",
   "source": "### 4.1. Motion Blur",
   "id": "96c826e1586ce089"
  },
  {
   "metadata": {},
   "cell_type": "markdown",
   "source": "### 4.2. Multiple Instances",
   "id": "8edcf67ae9249e6f"
  },
  {
   "metadata": {},
   "cell_type": "markdown",
   "source": "## 5. After Effects",
   "id": "6736f25dc259fe32"
  }
 ],
 "metadata": {
  "kernelspec": {
   "display_name": "Python 3 (ipykernel)",
   "language": "python",
   "name": "python3"
  },
  "language_info": {
   "codemirror_mode": {
    "name": "ipython",
    "version": 3
   },
   "file_extension": ".py",
   "mimetype": "text/x-python",
   "name": "python",
   "nbconvert_exporter": "python",
   "pygments_lexer": "ipython3",
   "version": "3.10.15"
  }
 },
 "nbformat": 4,
 "nbformat_minor": 5
}
