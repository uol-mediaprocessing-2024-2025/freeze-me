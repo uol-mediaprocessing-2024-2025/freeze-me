{
 "cells": [
  {
   "metadata": {},
   "cell_type": "markdown",
   "source": [
    "# Freeze Me!\n",
    "Freeze Me! is a project, in which we want to create dynamic, motion-illustrative images from video clips by isolating moving objects and visualizing their motion.\n",
    "The project is separated into individual steps, which all fulfill a specific task.  <br>\n",
    "The steps are:  <br>\n",
    "   1. Project setup\n",
    "   2. Video Upload and Cutting  <br>\n",
    "   3. Video Segmentation  <br>\n",
    "   4. The main effects  <br>\n",
    "    4.1 A Motion blur effect  <br>\n",
    "    4.2 A Multiple instances Effect  <br>\n",
    "   5. After effects  <br>\n",
    "\n",
    "\n",
    "In the following we will go through all steps of the project, their development history and other things worth mentioning (Future Improvements, technical difficulties, etc.).\n"
   ],
   "id": "ead3e1c2906715c2"
  },
  {
   "metadata": {},
   "cell_type": "markdown",
   "source": [
    "## 1. Project Setup\n",
    "\n",
    "Before going through the individual steps, we need to set up the project, e.g. configure the notebook, install necessary dependencies and setup some paths"
   ],
   "id": "ea4cac769c6b98a5"
  },
  {
   "metadata": {},
   "cell_type": "markdown",
   "source": "### 1.1 Settings",
   "id": "e997c0c514b78f26"
  },
  {
   "metadata": {
    "ExecuteTime": {
     "end_time": "2025-02-16T12:17:30.372129Z",
     "start_time": "2025-02-16T12:17:30.353042Z"
    }
   },
   "cell_type": "code",
   "source": "using_local_files = True   # should be True if run in local environment with project already installed",
   "id": "b35fca1d32c0cfc5",
   "outputs": [],
   "execution_count": 7
  },
  {
   "metadata": {},
   "cell_type": "markdown",
   "source": "### 1.2 Install dependencies",
   "id": "220b84666954581a"
  },
  {
   "metadata": {
    "ExecuteTime": {
     "end_time": "2025-02-16T12:17:49.151109Z",
     "start_time": "2025-02-16T12:17:46.188901Z"
    }
   },
   "cell_type": "code",
   "source": [
    "if using_local_files:\n",
    "    !pip3 install -r ../backend/requirements.txt\n",
    "else:\n",
    "    !pip3 install pillow\n",
    "    !pip3 install ffmpeg-python static-ffmpeg\n",
    "    !pip3 install opencv-python\n",
    "    !pip3 install torch torchvision\n",
    "    !pip3 install matplotlib\n",
    "    !pip3 install numpy cupy-cuda12x\n",
    "    !pip3 install sam2 supervision"
   ],
   "id": "aab6b7a5e54a8426",
   "outputs": [
    {
     "name": "stdout",
     "output_type": "stream",
     "text": [
      "Looking in indexes: https://pypi.org/simple, https://pypi.ngc.nvidia.com\n",
      "Requirement already satisfied: fastapi in d:\\anaconda\\envs\\freeze-me\\lib\\site-packages (from -r ../backend/requirements.txt (line 1)) (0.115.7)\n",
      "Requirement already satisfied: uvicorn in d:\\anaconda\\envs\\freeze-me\\lib\\site-packages (from -r ../backend/requirements.txt (line 2)) (0.34.0)\n",
      "Requirement already satisfied: pillow in d:\\anaconda\\envs\\freeze-me\\lib\\site-packages (from -r ../backend/requirements.txt (line 3)) (11.0.0)\n",
      "Requirement already satisfied: python-multipart in d:\\anaconda\\envs\\freeze-me\\lib\\site-packages (from -r ../backend/requirements.txt (line 4)) (0.0.20)\n",
      "Requirement already satisfied: ffmpeg-python in d:\\anaconda\\envs\\freeze-me\\lib\\site-packages (from -r ../backend/requirements.txt (line 5)) (0.2.0)\n",
      "Requirement already satisfied: static-ffmpeg in d:\\anaconda\\envs\\freeze-me\\lib\\site-packages (from -r ../backend/requirements.txt (line 6)) (2.8)\n",
      "Requirement already satisfied: opencv-python in d:\\anaconda\\envs\\freeze-me\\lib\\site-packages (from -r ../backend/requirements.txt (line 7)) (4.11.0.86)\n",
      "Requirement already satisfied: torch in d:\\anaconda\\envs\\freeze-me\\lib\\site-packages (from -r ../backend/requirements.txt (line 8)) (2.5.1)\n",
      "Requirement already satisfied: torchvision in d:\\anaconda\\envs\\freeze-me\\lib\\site-packages (from -r ../backend/requirements.txt (line 9)) (0.20.1)\n",
      "Requirement already satisfied: matplotlib in d:\\anaconda\\envs\\freeze-me\\lib\\site-packages (from -r ../backend/requirements.txt (line 10)) (3.10.0)\n",
      "Requirement already satisfied: numpy in d:\\anaconda\\envs\\freeze-me\\lib\\site-packages (from -r ../backend/requirements.txt (line 11)) (2.0.1)\n",
      "Requirement already satisfied: sam2 in d:\\anaconda\\envs\\freeze-me\\lib\\site-packages (from -r ../backend/requirements.txt (line 12)) (1.1.0)\n",
      "Requirement already satisfied: supervision in d:\\anaconda\\envs\\freeze-me\\lib\\site-packages (from -r ../backend/requirements.txt (line 13)) (0.25.1)\n",
      "Requirement already satisfied: uuid in d:\\anaconda\\envs\\freeze-me\\lib\\site-packages (from -r ../backend/requirements.txt (line 14)) (1.30)\n",
      "Requirement already satisfied: cupy-cuda12x in d:\\anaconda\\envs\\freeze-me\\lib\\site-packages (from -r ../backend/requirements.txt (line 15)) (13.3.0)\n",
      "Requirement already satisfied: scipy in d:\\anaconda\\envs\\freeze-me\\lib\\site-packages (from -r ../backend/requirements.txt (line 16)) (1.15.1)\n",
      "Requirement already satisfied: starlette<0.46.0,>=0.40.0 in d:\\anaconda\\envs\\freeze-me\\lib\\site-packages (from fastapi->-r ../backend/requirements.txt (line 1)) (0.45.3)\n",
      "Requirement already satisfied: pydantic!=1.8,!=1.8.1,!=2.0.0,!=2.0.1,!=2.1.0,<3.0.0,>=1.7.4 in d:\\anaconda\\envs\\freeze-me\\lib\\site-packages (from fastapi->-r ../backend/requirements.txt (line 1)) (2.10.6)\n",
      "Requirement already satisfied: typing-extensions>=4.8.0 in d:\\anaconda\\envs\\freeze-me\\lib\\site-packages (from fastapi->-r ../backend/requirements.txt (line 1)) (4.12.2)\n",
      "Requirement already satisfied: click>=7.0 in d:\\anaconda\\envs\\freeze-me\\lib\\site-packages (from uvicorn->-r ../backend/requirements.txt (line 2)) (8.1.8)\n",
      "Requirement already satisfied: h11>=0.8 in d:\\anaconda\\envs\\freeze-me\\lib\\site-packages (from uvicorn->-r ../backend/requirements.txt (line 2)) (0.14.0)\n",
      "Requirement already satisfied: future in d:\\anaconda\\envs\\freeze-me\\lib\\site-packages (from ffmpeg-python->-r ../backend/requirements.txt (line 5)) (1.0.0)\n",
      "Requirement already satisfied: requests in d:\\anaconda\\envs\\freeze-me\\lib\\site-packages (from static-ffmpeg->-r ../backend/requirements.txt (line 6)) (2.32.3)\n",
      "Requirement already satisfied: filelock in d:\\anaconda\\envs\\freeze-me\\lib\\site-packages (from static-ffmpeg->-r ../backend/requirements.txt (line 6)) (3.13.1)\n",
      "Requirement already satisfied: progress in d:\\anaconda\\envs\\freeze-me\\lib\\site-packages (from static-ffmpeg->-r ../backend/requirements.txt (line 6)) (1.6)\n",
      "Requirement already satisfied: networkx in d:\\anaconda\\envs\\freeze-me\\lib\\site-packages (from torch->-r ../backend/requirements.txt (line 8)) (3.4.2)\n",
      "Requirement already satisfied: jinja2 in d:\\anaconda\\envs\\freeze-me\\lib\\site-packages (from torch->-r ../backend/requirements.txt (line 8)) (3.1.5)\n",
      "Requirement already satisfied: fsspec in d:\\anaconda\\envs\\freeze-me\\lib\\site-packages (from torch->-r ../backend/requirements.txt (line 8)) (2024.12.0)\n",
      "Requirement already satisfied: sympy==1.13.1 in d:\\anaconda\\envs\\freeze-me\\lib\\site-packages (from torch->-r ../backend/requirements.txt (line 8)) (1.13.1)\n",
      "Requirement already satisfied: mpmath<1.4,>=1.1.0 in d:\\anaconda\\envs\\freeze-me\\lib\\site-packages (from sympy==1.13.1->torch->-r ../backend/requirements.txt (line 8)) (1.3.0)\n",
      "Requirement already satisfied: contourpy>=1.0.1 in d:\\anaconda\\envs\\freeze-me\\lib\\site-packages (from matplotlib->-r ../backend/requirements.txt (line 10)) (1.3.1)\n",
      "Requirement already satisfied: cycler>=0.10 in d:\\anaconda\\envs\\freeze-me\\lib\\site-packages (from matplotlib->-r ../backend/requirements.txt (line 10)) (0.12.1)\n",
      "Requirement already satisfied: fonttools>=4.22.0 in d:\\anaconda\\envs\\freeze-me\\lib\\site-packages (from matplotlib->-r ../backend/requirements.txt (line 10)) (4.55.6)\n",
      "Requirement already satisfied: kiwisolver>=1.3.1 in d:\\anaconda\\envs\\freeze-me\\lib\\site-packages (from matplotlib->-r ../backend/requirements.txt (line 10)) (1.4.8)\n",
      "Requirement already satisfied: packaging>=20.0 in d:\\anaconda\\envs\\freeze-me\\lib\\site-packages (from matplotlib->-r ../backend/requirements.txt (line 10)) (24.2)\n",
      "Requirement already satisfied: pyparsing>=2.3.1 in d:\\anaconda\\envs\\freeze-me\\lib\\site-packages (from matplotlib->-r ../backend/requirements.txt (line 10)) (3.2.1)\n",
      "Requirement already satisfied: python-dateutil>=2.7 in d:\\anaconda\\envs\\freeze-me\\lib\\site-packages (from matplotlib->-r ../backend/requirements.txt (line 10)) (2.9.0.post0)\n",
      "Requirement already satisfied: tqdm>=4.66.1 in d:\\anaconda\\envs\\freeze-me\\lib\\site-packages (from sam2->-r ../backend/requirements.txt (line 12)) (4.67.1)\n",
      "Requirement already satisfied: hydra-core>=1.3.2 in d:\\anaconda\\envs\\freeze-me\\lib\\site-packages (from sam2->-r ../backend/requirements.txt (line 12)) (1.3.2)\n",
      "Requirement already satisfied: iopath>=0.1.10 in d:\\anaconda\\envs\\freeze-me\\lib\\site-packages (from sam2->-r ../backend/requirements.txt (line 12)) (0.1.10)\n",
      "Requirement already satisfied: defusedxml<0.8.0,>=0.7.1 in d:\\anaconda\\envs\\freeze-me\\lib\\site-packages (from supervision->-r ../backend/requirements.txt (line 13)) (0.7.1)\n",
      "Requirement already satisfied: pyyaml>=5.3 in d:\\anaconda\\envs\\freeze-me\\lib\\site-packages (from supervision->-r ../backend/requirements.txt (line 13)) (6.0.2)\n",
      "Requirement already satisfied: fastrlock>=0.5 in d:\\anaconda\\envs\\freeze-me\\lib\\site-packages (from cupy-cuda12x->-r ../backend/requirements.txt (line 15)) (0.8.3)\n",
      "Requirement already satisfied: colorama in d:\\anaconda\\envs\\freeze-me\\lib\\site-packages (from click>=7.0->uvicorn->-r ../backend/requirements.txt (line 2)) (0.4.6)\n",
      "Requirement already satisfied: omegaconf<2.4,>=2.2 in d:\\anaconda\\envs\\freeze-me\\lib\\site-packages (from hydra-core>=1.3.2->sam2->-r ../backend/requirements.txt (line 12)) (2.3.0)\n",
      "Requirement already satisfied: antlr4-python3-runtime==4.9.* in d:\\anaconda\\envs\\freeze-me\\lib\\site-packages (from hydra-core>=1.3.2->sam2->-r ../backend/requirements.txt (line 12)) (4.9.3)\n",
      "Requirement already satisfied: portalocker in d:\\anaconda\\envs\\freeze-me\\lib\\site-packages (from iopath>=0.1.10->sam2->-r ../backend/requirements.txt (line 12)) (3.1.1)\n",
      "Requirement already satisfied: annotated-types>=0.6.0 in d:\\anaconda\\envs\\freeze-me\\lib\\site-packages (from pydantic!=1.8,!=1.8.1,!=2.0.0,!=2.0.1,!=2.1.0,<3.0.0,>=1.7.4->fastapi->-r ../backend/requirements.txt (line 1)) (0.7.0)\n",
      "Requirement already satisfied: pydantic-core==2.27.2 in d:\\anaconda\\envs\\freeze-me\\lib\\site-packages (from pydantic!=1.8,!=1.8.1,!=2.0.0,!=2.0.1,!=2.1.0,<3.0.0,>=1.7.4->fastapi->-r ../backend/requirements.txt (line 1)) (2.27.2)\n",
      "Requirement already satisfied: six>=1.5 in d:\\anaconda\\envs\\freeze-me\\lib\\site-packages (from python-dateutil>=2.7->matplotlib->-r ../backend/requirements.txt (line 10)) (1.16.0)\n",
      "Requirement already satisfied: charset-normalizer<4,>=2 in d:\\anaconda\\envs\\freeze-me\\lib\\site-packages (from requests->static-ffmpeg->-r ../backend/requirements.txt (line 6)) (3.3.2)\n",
      "Requirement already satisfied: idna<4,>=2.5 in d:\\anaconda\\envs\\freeze-me\\lib\\site-packages (from requests->static-ffmpeg->-r ../backend/requirements.txt (line 6)) (3.10)\n",
      "Requirement already satisfied: urllib3<3,>=1.21.1 in d:\\anaconda\\envs\\freeze-me\\lib\\site-packages (from requests->static-ffmpeg->-r ../backend/requirements.txt (line 6)) (2.3.0)\n",
      "Requirement already satisfied: certifi>=2017.4.17 in d:\\anaconda\\envs\\freeze-me\\lib\\site-packages (from requests->static-ffmpeg->-r ../backend/requirements.txt (line 6)) (2025.1.31)\n",
      "Requirement already satisfied: anyio<5,>=3.6.2 in d:\\anaconda\\envs\\freeze-me\\lib\\site-packages (from starlette<0.46.0,>=0.40.0->fastapi->-r ../backend/requirements.txt (line 1)) (4.6.2)\n",
      "Requirement already satisfied: MarkupSafe>=2.0 in d:\\anaconda\\envs\\freeze-me\\lib\\site-packages (from jinja2->torch->-r ../backend/requirements.txt (line 8)) (2.1.3)\n",
      "Requirement already satisfied: sniffio>=1.1 in d:\\anaconda\\envs\\freeze-me\\lib\\site-packages (from anyio<5,>=3.6.2->starlette<0.46.0,>=0.40.0->fastapi->-r ../backend/requirements.txt (line 1)) (1.3.0)\n",
      "Requirement already satisfied: exceptiongroup>=1.0.2 in d:\\anaconda\\envs\\freeze-me\\lib\\site-packages (from anyio<5,>=3.6.2->starlette<0.46.0,>=0.40.0->fastapi->-r ../backend/requirements.txt (line 1)) (1.2.0)\n",
      "Requirement already satisfied: pywin32>=226 in d:\\anaconda\\envs\\freeze-me\\lib\\site-packages (from portalocker->iopath>=0.1.10->sam2->-r ../backend/requirements.txt (line 12)) (308)\n"
     ]
    }
   ],
   "execution_count": 9
  },
  {
   "metadata": {},
   "cell_type": "markdown",
   "source": "### 1.3 Setup paths",
   "id": "2dac092e0da21765"
  },
  {
   "metadata": {
    "ExecuteTime": {
     "end_time": "2025-02-16T12:53:31.279584Z",
     "start_time": "2025-02-16T12:53:31.274609Z"
    }
   },
   "cell_type": "code",
   "source": [
    "from pathlib import Path\n",
    "base_path = \"files\"\n",
    "sample_video_name = \"sample_video.mp4\"\n",
    "\n",
    "def get_base_path():\n",
    "    return Path(base_path)\n",
    "def get_sample_path():\n",
    "    return get_base_path().joinpath(sample_video_name)\n",
    "\n",
    "get_base_path().mkdir(parents=True, exist_ok=True)"
   ],
   "id": "7997ac19bdb0342e",
   "outputs": [],
   "execution_count": 18
  },
  {
   "metadata": {},
   "cell_type": "markdown",
   "source": "## 2. Video Upload and Editing",
   "id": "84f57f3b7ce9e13"
  },
  {
   "metadata": {},
   "cell_type": "markdown",
   "source": "### 2.1 Setup",
   "id": "7496b9144912f007"
  },
  {
   "metadata": {},
   "cell_type": "code",
   "outputs": [],
   "execution_count": null,
   "source": [
    "if not using_local_files:\n",
    "    !wget -P /files/ https://raw.githubusercontent.com/uol-mediaprocessing-2024-2025/freeze-me/refs/heads/master/notebook/files/sample_video.mp4"
   ],
   "id": "6be38412d20fd07b"
  },
  {
   "metadata": {},
   "cell_type": "markdown",
   "source": "### 2.2 Getting Video Details",
   "id": "71dfc5a1e3a93f0a"
  },
  {
   "metadata": {},
   "cell_type": "markdown",
   "source": "#### 2.2.1 Current Process",
   "id": "2b86d319625cc5de"
  },
  {
   "metadata": {},
   "cell_type": "code",
   "outputs": [],
   "execution_count": null,
   "source": "",
   "id": "f650ee68234c91c2"
  },
  {
   "metadata": {},
   "cell_type": "markdown",
   "source": "#### 2.2.2 Development History",
   "id": "534e788cfcf7a32"
  },
  {
   "metadata": {},
   "cell_type": "code",
   "outputs": [],
   "execution_count": null,
   "source": "",
   "id": "ad311b47c20d7c7"
  },
  {
   "metadata": {},
   "cell_type": "markdown",
   "source": "#### 2.2.3 Future Improvement",
   "id": "31c3770879115cde"
  },
  {
   "metadata": {},
   "cell_type": "markdown",
   "source": "### 2.3 Cutting video",
   "id": "762a58f4d5ebd13f"
  },
  {
   "metadata": {},
   "cell_type": "markdown",
   "source": "#### 2.3.1 Current Process",
   "id": "ed2a57524cba6aa5"
  },
  {
   "metadata": {},
   "cell_type": "code",
   "outputs": [],
   "execution_count": null,
   "source": "",
   "id": "5acdc23793b3e5d6"
  },
  {
   "metadata": {},
   "cell_type": "markdown",
   "source": "#### 2.3.2 Development History",
   "id": "a56fce791e97468b"
  },
  {
   "metadata": {},
   "cell_type": "code",
   "outputs": [],
   "execution_count": null,
   "source": "",
   "id": "a932b6b87341cefb"
  },
  {
   "metadata": {},
   "cell_type": "markdown",
   "source": "#### Future Improvements",
   "id": "f1b03636139236f1"
  },
  {
   "metadata": {},
   "cell_type": "markdown",
   "source": "## 3. Segmentation",
   "id": "1c33051286b2c53f"
  },
  {
   "metadata": {},
   "cell_type": "markdown",
   "source": "### 3.1 Setup",
   "id": "31dc5ac745146eb3"
  },
  {
   "metadata": {
    "editable": true,
    "slideshow": {
     "slide_type": ""
    },
    "tags": [],
    "ExecuteTime": {
     "end_time": "2025-02-16T12:45:31.572742Z",
     "start_time": "2025-02-16T12:45:30.656765Z"
    }
   },
   "cell_type": "code",
   "source": [
    "import os\n",
    "import torch\n",
    "os.environ[\"PYTORCH_ENABLE_MPS_FALLBACK\"] = \"1\"\n",
    "import torchvision\n",
    "\n",
    "print(\"PyTorch version:\", torch.__version__)\n",
    "print(\"Torchvision version:\", torchvision.__version__)\n",
    "print(\"Torch MKL available: \", torch.backends.mkl.is_available())\n",
    "print(\"CUDA available:\", torch.cuda.is_available())\n",
    "print(\"CUDA Version:\", torch.version.cuda)\n",
    "print(\"CuDNN Version:\", torch.backends.cudnn.version())\n",
    "print(\"FlashAttention available:\", torch.backends.cuda.flash_sdp_enabled())\n",
    "\n",
    "# Use GPU (CUDA) if available\n",
    "device = torch.device(\"cuda\" if torch.cuda.is_available() else \"cpu\")\n",
    "if device.type == \"cuda\":\n",
    "    torch.autocast(\"cuda\", dtype=torch.bfloat16).__enter__()\n",
    "    if torch.cuda.get_device_properties(0).major >= 8:\n",
    "        torch.backends.cuda.matmul.allow_tf32 = True\n",
    "        torch.backends.cudnn.allow_tf32 = True\n",
    "\n",
    "print(f\"Using device: {device}\")\n",
    "\n",
    "if not using_local_files:\n",
    "    # Install required libraries\n",
    "\n",
    "    checkpoint_path = \"../checkpoints/sam2.1_hiera_tiny.pt\"\n",
    "    config_path = \"configs/sam2.1/sam2.1_hiera_l.yaml\"\n",
    "\n",
    "    !mkdir -p ../checkpoints/\n",
    "    !wget -P ../checkpoints/ https://dl.fbaipublicfiles.com/segment_anything_2/092824/sam2.1_hiera_tiny.pt\n",
    "\n",
    "else:\n",
    "    checkpoint_path = \"../backend/checkpoints/sam2.1_hiera_tiny.pt\"\n",
    "    config_path = \"configs/sam2.1/sam2.1_hiera_t.yaml\"\n",
    "\n",
    "\n",
    "print(f\"Using checkpoint: {checkpoint_path}\")  # project uses methods from path_manager.py\n",
    "print(f\"Using config: {config_path}\")  # project uses methods from path_manager.py\n",
    "\n",
    "from sam2.build_sam import build_sam2_video_predictor\n",
    "predictor = build_sam2_video_predictor(config_path, checkpoint_path, device=device)"
   ],
   "id": "2ce567311665f038",
   "outputs": [
    {
     "name": "stdout",
     "output_type": "stream",
     "text": [
      "PyTorch version: 2.5.1\n",
      "Torchvision version: 0.20.1\n",
      "Torch MKL available:  True\n",
      "CUDA available: True\n",
      "CUDA Version: 12.4\n",
      "CuDNN Version: 90100\n",
      "FlashAttention available: True\n",
      "Using device: cuda\n",
      "Using checkpoint: ../backend/checkpoints/sam2.1_hiera_tiny.pt\n",
      "Using config: configs/sam2.1/sam2.1_hiera_t.yaml\n"
     ]
    }
   ],
   "execution_count": 16
  },
  {
   "metadata": {},
   "cell_type": "markdown",
   "source": "### 3.2 Segmenting video",
   "id": "85426e9e0838a2b5"
  },
  {
   "metadata": {},
   "cell_type": "markdown",
   "source": "#### 3.2.1 Current Process",
   "id": "48ea9c2e0a405f25"
  },
  {
   "metadata": {},
   "cell_type": "code",
   "outputs": [],
   "execution_count": null,
   "source": "",
   "id": "a95a20c94b4a45cd"
  },
  {
   "metadata": {},
   "cell_type": "markdown",
   "source": "#### 3.2.2 Development History",
   "id": "592fbcad3d72fdb6"
  },
  {
   "metadata": {},
   "cell_type": "code",
   "outputs": [],
   "execution_count": null,
   "source": "",
   "id": "7b44d402ec3bed5b"
  },
  {
   "metadata": {},
   "cell_type": "markdown",
   "source": "### 3.2.3 Future Improvements",
   "id": "eec0af6bdcf391d6"
  },
  {
   "metadata": {},
   "cell_type": "markdown",
   "source": "## 4. Main Effects",
   "id": "7e04d12933376e4c"
  },
  {
   "metadata": {},
   "cell_type": "markdown",
   "source": "#### 4.1 Setup",
   "id": "be46fd53aa95be78"
  },
  {
   "metadata": {},
   "cell_type": "code",
   "outputs": [],
   "execution_count": null,
   "source": "",
   "id": "549ac56674cb1fd6"
  },
  {
   "metadata": {},
   "cell_type": "markdown",
   "source": "### 4.2 Motion Blur",
   "id": "96c826e1586ce089"
  },
  {
   "metadata": {},
   "cell_type": "markdown",
   "source": "#### 4.2.1 Current Process",
   "id": "948ad9b358c1e28b"
  },
  {
   "metadata": {},
   "cell_type": "code",
   "outputs": [],
   "execution_count": null,
   "source": "",
   "id": "36b25ee554524099"
  },
  {
   "metadata": {},
   "cell_type": "markdown",
   "source": "#### 4.2.2 Development History",
   "id": "6b08966a782ffe71"
  },
  {
   "metadata": {},
   "cell_type": "code",
   "outputs": [],
   "execution_count": null,
   "source": "",
   "id": "662a884d1fb04ac"
  },
  {
   "metadata": {},
   "cell_type": "markdown",
   "source": "#### 4.2.3 Future Improvements",
   "id": "7effdb9b79de4b0"
  },
  {
   "metadata": {},
   "cell_type": "markdown",
   "source": "### 4.3 Multiple Instances",
   "id": "8edcf67ae9249e6f"
  },
  {
   "metadata": {},
   "cell_type": "markdown",
   "source": "#### 4.3.1 Current Process",
   "id": "c302006701176310"
  },
  {
   "metadata": {},
   "cell_type": "code",
   "outputs": [],
   "execution_count": null,
   "source": "",
   "id": "4a84682614455b9b"
  },
  {
   "metadata": {},
   "cell_type": "markdown",
   "source": "#### 4.3.2 Development History",
   "id": "6d1bcc0b073cf675"
  },
  {
   "metadata": {},
   "cell_type": "code",
   "outputs": [],
   "execution_count": null,
   "source": "",
   "id": "fe7b712ef20d1d14"
  },
  {
   "metadata": {},
   "cell_type": "markdown",
   "source": "#### 4.3.3 Future Improvements",
   "id": "19ddd8e9a7bb3289"
  },
  {
   "metadata": {},
   "cell_type": "markdown",
   "source": "## 5. After Effects",
   "id": "6736f25dc259fe32"
  },
  {
   "metadata": {},
   "cell_type": "markdown",
   "source": "### 5.1 Setup",
   "id": "76db71a02c443edf"
  },
  {
   "metadata": {},
   "cell_type": "code",
   "outputs": [],
   "execution_count": null,
   "source": "",
   "id": "a85768ce13f9a96d"
  },
  {
   "metadata": {},
   "cell_type": "markdown",
   "source": "### 5.2 After Effects Process",
   "id": "71d256e72c13d267"
  },
  {
   "metadata": {},
   "cell_type": "markdown",
   "source": "#### 5.2.1 Current Process",
   "id": "9bde4d26419c1045"
  },
  {
   "metadata": {},
   "cell_type": "code",
   "outputs": [],
   "execution_count": null,
   "source": "",
   "id": "3377be72a896ec7c"
  },
  {
   "metadata": {},
   "cell_type": "markdown",
   "source": "#### 5.2.2 Development History",
   "id": "ab5f159921fd2751"
  },
  {
   "metadata": {},
   "cell_type": "code",
   "outputs": [],
   "execution_count": null,
   "source": "",
   "id": "661111144bc714d4"
  },
  {
   "metadata": {},
   "cell_type": "markdown",
   "source": "#### 5.2.3 Final Improvements",
   "id": "ade9dd95c5d5dfe9"
  }
 ],
 "metadata": {
  "kernelspec": {
   "display_name": "Python 3 (ipykernel)",
   "language": "python",
   "name": "python3"
  },
  "language_info": {
   "codemirror_mode": {
    "name": "ipython",
    "version": 3
   },
   "file_extension": ".py",
   "mimetype": "text/x-python",
   "name": "python",
   "nbconvert_exporter": "python",
   "pygments_lexer": "ipython3",
   "version": "3.10.15"
  }
 },
 "nbformat": 4,
 "nbformat_minor": 5
}
